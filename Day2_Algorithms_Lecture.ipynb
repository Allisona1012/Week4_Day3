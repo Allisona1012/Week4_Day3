{
 "cells": [
  {
   "cell_type": "markdown",
   "metadata": {},
   "source": [
    "# Classic Algorithms"
   ]
  },
  {
   "cell_type": "markdown",
   "metadata": {},
   "source": [
    "## Tasks Today:\n",
    " \n",
    "1) <b>In-Place Algorithms</b> <br>\n",
    " &nbsp;&nbsp;&nbsp;&nbsp; a) Syntax <br>\n",
    " &nbsp;&nbsp;&nbsp;&nbsp; a) Out of Place Algorithm <br>\n",
    " &nbsp;&nbsp;&nbsp;&nbsp; b) In-Class Exercise #1 <br>\n",
    "2) <b>Two Pointers</b> <br>\n",
    "3) <b>Sorting Algorithms</b> <br>\n",
    "4) <b>Merge Sort</b> <br>\n",
    " &nbsp;&nbsp;&nbsp;&nbsp; a) Video on Algorithms <br>\n",
    " &nbsp;&nbsp;&nbsp;&nbsp; b) How it Works <br>\n",
    "5) <b>Exercises</b> <br>\n",
    " &nbsp;&nbsp;&nbsp;&nbsp; a) Exercise #1 - Reverse a List in Place Using an In-Place Algorithm <br>\n",
    " &nbsp;&nbsp;&nbsp;&nbsp; b) Exercise #2 - Find Distinct Words <br>\n",
    " &nbsp;&nbsp;&nbsp;&nbsp; c) Exercise #3 - Write a program to implement a Linear Search Algorithm. <br>"
   ]
  },
  {
   "cell_type": "markdown",
   "metadata": {},
   "source": [
    "## In-Place Algorithms"
   ]
  },
  {
   "cell_type": "markdown",
   "metadata": {},
   "source": [
    "#### Syntax"
   ]
  },
  {
   "cell_type": "code",
   "execution_count": 7,
   "metadata": {},
   "outputs": [
    {
     "name": "stdout",
     "output_type": "stream",
     "text": [
      "[75, 23, 34, 63, 124, 45]\n"
     ]
    }
   ],
   "source": [
    "random_list = [45,23,34,63,124,75]\n",
    "\n",
    "def swap_first_last (a_list):\n",
    "    #this is holding onto our original 0 index\n",
    "    temp_value= a_list[0]\n",
    "    a_list[0] = a_list[-1]\n",
    "    a_list[-1] = temp_value\n",
    "    \n",
    "swap_first_last(random_list)\n",
    "print (random_list)"
   ]
  },
  {
   "cell_type": "code",
   "execution_count": 13,
   "metadata": {},
   "outputs": [
    {
     "name": "stdout",
     "output_type": "stream",
     "text": [
      "[90, 34, 56, 78, 12]\n"
     ]
    }
   ],
   "source": [
    "random_list_again =[12,34,56,78,90]\n",
    "def swap_index(a_list):\n",
    "    a_list[0],a_list[-1] = a_list[-1],a_list[0]\n",
    "    \n",
    "swap_index(random_list_again)\n",
    "print(random_list_again)"
   ]
  },
  {
   "cell_type": "code",
   "execution_count": 16,
   "metadata": {},
   "outputs": [
    {
     "name": "stdout",
     "output_type": "stream",
     "text": [
      "[90, 34, 56, 78, 12]\n"
     ]
    }
   ],
   "source": [
    "def swap_elements (a_list,indx_1,indx_2):\n",
    "    a_list[indx_1],a_list[indx_2] = a_list[indx_2],a_list[indx_1]\n",
    "    \n",
    "swap_elements(random_list_again,2,3)\n",
    "print(random_list_again)"
   ]
  },
  {
   "cell_type": "markdown",
   "metadata": {},
   "source": [
    "#### Out of Place Algorithm"
   ]
  },
  {
   "cell_type": "code",
   "execution_count": 17,
   "metadata": {},
   "outputs": [
    {
     "name": "stdout",
     "output_type": "stream",
     "text": [
      "['Allison', 'Devin', 'Fratelli', 'Ronnnie']\n",
      "['Allison', 'Devin', 'Fratelli', 'Ronnnie']\n",
      "['Ronnnie', 'Fratelli', 'Devin', 'Allison']\n"
     ]
    }
   ],
   "source": [
    "names = ['Allison','Devin','Fratelli','Ronnnie']\n",
    "names_reversed = names[::-1]\n",
    "\n",
    "def reverse_a_list(a_list):\n",
    "    return a_list[::-1]\n",
    "\n",
    "print(names)\n",
    "a = reverse_a_list(names)\n",
    "print(names)\n",
    "print(a)"
   ]
  },
  {
   "cell_type": "code",
   "execution_count": 19,
   "metadata": {},
   "outputs": [
    {
     "data": {
      "text/plain": [
       "[5, 4, 3, 2, 1]"
      ]
     },
     "execution_count": 19,
     "metadata": {},
     "output_type": "execute_result"
    }
   ],
   "source": [
    "#long form reverse a list out of place\n",
    "\n",
    "def reverse_list(a_list):\n",
    "    new_list=[]\n",
    "    length = len(a_list)\n",
    "    for i in range(len(a_list)):\n",
    "        new_list.append(a_list[length-1-i])\n",
    "    return new_list\n",
    "\n",
    "reverse_list([1,2,3,4,5])"
   ]
  },
  {
   "cell_type": "markdown",
   "metadata": {},
   "source": [
    "#### In-Class Exercise #1 <br>\n",
    "<p>Write a function that takes in four arguments (list, index1, index2, index3), and swaps those three positions in the list passed in.</p>"
   ]
  },
  {
   "cell_type": "code",
   "execution_count": 21,
   "metadata": {},
   "outputs": [
    {
     "name": "stdout",
     "output_type": "stream",
     "text": [
      "[6, 4, 3, 10, 4, 2, 8]\n"
     ]
    }
   ],
   "source": [
    "l_1 = [10, 4, 3, 8, 4, 2, 6]\n",
    "\n",
    "def swappy_swap(a_list, ind_1,ind_2,ind_3):\n",
    "    a_list[ind_1],a_list[ind_2],a_list[ind_3] = a_list[ind_2],a_list[ind_3],a_list[ind_1]\n",
    "\n",
    "swappy_swap(l_1,0,6,3)\n",
    "print(l_1)"
   ]
  },
  {
   "cell_type": "markdown",
   "metadata": {},
   "source": [
    "## Two Pointers"
   ]
  },
  {
   "cell_type": "markdown",
   "metadata": {},
   "source": [
    "#### Syntax"
   ]
  },
  {
   "cell_type": "code",
   "execution_count": 24,
   "metadata": {},
   "outputs": [
    {
     "name": "stdout",
     "output_type": "stream",
     "text": [
      "[5, 10, 15, 20, 25, 30, 35, 40, 45, 50]\n",
      "[50, 45, 40, 35, 30, 25, 20, 15, 10, 5]\n"
     ]
    }
   ],
   "source": [
    "# list[left], list[right] = list[right],list[left]\n",
    "#continue until the left index is greater than the right index \n",
    "\n",
    "def reverse_in_place(lst):\n",
    "    #create the pointers for our indicies\n",
    "    left =0 \n",
    "    right = len(lst) - 1\n",
    "    while left <= right:\n",
    "        lst[left], lst[right] = lst[right],lst[left]\n",
    "        left += 1\n",
    "        right -= 1\n",
    "        \n",
    "some_list =[5,10,15,20,25,30,35,40,45,50]\n",
    "print(some_list)\n",
    "reverse_in_place(some_list)\n",
    "print(some_list)\n",
    "        \n",
    "    "
   ]
  },
  {
   "cell_type": "markdown",
   "metadata": {},
   "source": [
    "#### Video of Algorithms <br>\n",
    "<p>Watch the video about algorithms.</p>\n",
    "\n",
    "https://www.youtube.com/watch?v=Q9HjeFD62Uk\n",
    "\n",
    "https://www.youtube.com/watch?v=kPRA0W1kECg\n",
    "\n",
    "https://www.youtube.com/watch?v=ZZuD6iUe3Pc"
   ]
  },
  {
   "cell_type": "markdown",
   "metadata": {},
   "source": [
    "# Sorting Algorithms"
   ]
  },
  {
   "cell_type": "code",
   "execution_count": null,
   "metadata": {},
   "outputs": [],
   "source": [
    "# https://visualgo.net/en/sorting?slide=1"
   ]
  },
  {
   "cell_type": "markdown",
   "metadata": {},
   "source": [
    "#### Bubble Sort\n",
    "\n",
    "Worst Case: O(n^2) Time - O(1) Space"
   ]
  },
  {
   "cell_type": "code",
   "execution_count": 30,
   "metadata": {},
   "outputs": [],
   "source": [
    "#best case: O(n) Linear Time\n",
    "\n",
    "def bubble_sort(array):\n",
    "    is_sorted = False\n",
    "    while not is_sorted:\n",
    "        is_sorted = True\n",
    "        for idx in range(len(array)-1):\n",
    "            if array[idx] > array[idx +1]:\n",
    "                array[idx], array[idx + 1] = array[idx +1], array[idx]\n",
    "                is_sorted = False\n",
    "    return array\n",
    "\n",
    "bubble_sort = [1,3,4,5,6,7]"
   ]
  },
  {
   "cell_type": "markdown",
   "metadata": {},
   "source": [
    "##### Insertion Sort\n",
    "\n",
    "Worst Case: O(n^2) time - O(1)space"
   ]
  },
  {
   "cell_type": "code",
   "execution_count": 32,
   "metadata": {},
   "outputs": [
    {
     "data": {
      "text/plain": [
       "[1, 2, 2, 4, 4, 5, 8]"
      ]
     },
     "execution_count": 32,
     "metadata": {},
     "output_type": "execute_result"
    }
   ],
   "source": [
    "def insertion_sort(array):\n",
    "    # for i in range (start,(stop))\n",
    "    for i in range(1,len(array)):\n",
    "        #start at the 1 index and while the i is less than the index to the left\n",
    "         while i > 0 and array[i] < array[i-1]:\n",
    "            #move the elements to the left to sort \n",
    "            array[i], array[i-1] = array[i -1], array[i]\n",
    "            i -= 1\n",
    "    return array\n",
    "\n",
    "insertion_sort([2,1,4,8,2,5,4])"
   ]
  },
  {
   "cell_type": "markdown",
   "metadata": {},
   "source": [
    "## Merge Sort"
   ]
  },
  {
   "cell_type": "markdown",
   "metadata": {},
   "source": [
    "#### How it Works"
   ]
  },
  {
   "cell_type": "code",
   "execution_count": 43,
   "metadata": {},
   "outputs": [
    {
     "name": "stdout",
     "output_type": "stream",
     "text": [
      "Splitting.... [1, 10, 2, 20, 3, 30, 5, 6, 77, 8, 12]\n",
      "Splitting.... [1, 10, 2, 20, 3]\n",
      "Splitting.... [1, 10]\n",
      "Merging....\n",
      "Merging....\n",
      "Merging....\n",
      "Splitting.... [2, 20, 3]\n",
      "Merging....\n",
      "Splitting.... [20, 3]\n",
      "Merging....\n",
      "Merging....\n",
      "Merging....\n",
      "Merging....\n",
      "Merging....\n",
      "Splitting.... [30, 5, 6, 77, 8, 12]\n",
      "Splitting.... [30, 5, 6]\n",
      "Merging....\n",
      "Splitting.... [5, 6]\n",
      "Merging....\n",
      "Merging....\n",
      "Merging....\n",
      "Merging....\n",
      "Splitting.... [77, 8, 12]\n",
      "Merging....\n",
      "Splitting.... [8, 12]\n",
      "Merging....\n",
      "Merging....\n",
      "Merging....\n",
      "Merging....\n",
      "Merging....\n",
      "Merging....\n"
     ]
    },
    {
     "data": {
      "text/plain": [
       "[1, 2, 3, 5, 6, 8, 10, 12, 20, 30, 77]"
      ]
     },
     "execution_count": 43,
     "metadata": {},
     "output_type": "execute_result"
    }
   ],
   "source": [
    "#step 1: split everything into its own group len = 1\n",
    "#step 2: from left to right,merge two groups together\n",
    "#step 3: While merging, place each item in the correct index position in the main list\n",
    "#step 4: Continue until we have only one group left\n",
    "\n",
    "def merge_sort(array):\n",
    "    \n",
    "    if len(array) >1:\n",
    "        mid = len(array) //2\n",
    "        print('Splitting....', array)\n",
    "        left_half= array[:mid]\n",
    "        right_half = array[mid:]\n",
    "        \n",
    "        merge_sort(left_half)\n",
    "        merge_sort(right_half)\n",
    "    \n",
    "\n",
    "        #set index pointers for our lists \n",
    "        l = 0 #pointer for left_half\n",
    "        r = 0 #pointer for right half list\n",
    "        m = 0 #pointer for main list\n",
    "\n",
    "        while l < len(left_half) and r < len(right_half):\n",
    "            if left_half[l] < right_half[r]:\n",
    "                array[m] = left_half[l]\n",
    "                l += 1\n",
    "            else:\n",
    "                array[m] = right_half[r]\n",
    "                r+= 1\n",
    "            m += 1\n",
    "\n",
    "\n",
    "        while l < len(left_half):\n",
    "            array[m] = left_half[l]\n",
    "            l =+ 1\n",
    "            m += 1\n",
    "        while r < len(right_half):\n",
    "            array[m] = right_half[r]\n",
    "            r +=1\n",
    "            m +=1\n",
    "        \n",
    "    print('Merging....')\n",
    "    return array\n",
    "\n",
    "    \n",
    "        \n",
    "        \n",
    "random_array = [1,10,2,20,3,30,5,6,77,8,12]\n",
    "\n",
    "merge_sort(random_array)\n",
    "    "
   ]
  },
  {
   "cell_type": "markdown",
   "metadata": {},
   "source": [
    "# Binary Search\n",
    "\n",
    "The Binary Search algorithm works by finding the number in the middle of a given array and comparing it to the target. Given that the array is sorted\n",
    "\n",
    "* The worst case run time for this algorithm is `O(log(n))`"
   ]
  },
  {
   "cell_type": "code",
   "execution_count": 48,
   "metadata": {},
   "outputs": [
    {
     "data": {
      "text/plain": [
       "'The index for 134 is 7.'"
      ]
     },
     "execution_count": 48,
     "metadata": {},
     "output_type": "execute_result"
    }
   ],
   "source": [
    "def binary_search(a_list,a_target):\n",
    "    high = len(a_list) -1\n",
    "    low = 0\n",
    "    while low <= high:\n",
    "        middle = (low + high) // 2\n",
    "        if a_target == a_list[middle]:\n",
    "            return f'The index for {a_target} is {middle}.'\n",
    "        elif a_target < a_list[middle]:\n",
    "            high = middle - 1 \n",
    "        else:\n",
    "            low = middle +1\n",
    "            \n",
    "    return -1\n",
    "\n",
    "binary_search([1,20,24,86,87,100,101,134,289,3647], 134)"
   ]
  },
  {
   "cell_type": "markdown",
   "metadata": {},
   "source": [
    "# Exercises"
   ]
  },
  {
   "cell_type": "markdown",
   "metadata": {},
   "source": [
    "### Exercise #1 <br>\n",
    "<p>Reverse the list below in-place using an in-place algorithm.<br>For extra credit: Reverse the strings at the same time.</p>"
   ]
  },
  {
   "cell_type": "code",
   "execution_count": 25,
   "metadata": {},
   "outputs": [
    {
     "name": "stdout",
     "output_type": "stream",
     "text": [
      "['this', 'is', 'a', 'sentence', '.']\n",
      "['.', 'sentence', 'a', 'is', 'this']\n"
     ]
    }
   ],
   "source": [
    "words = ['this' , 'is', 'a', 'sentence', '.']\n",
    "\n",
    "def reverse_str(lst):\n",
    "    #create the pointers for our indicies\n",
    "    left =0 \n",
    "    right = len(lst) - 1\n",
    "    while left <= right:\n",
    "        lst[left], lst[right] = lst[right],lst[left]\n",
    "        left += 1\n",
    "        right -= 1\n",
    "        \n",
    "print(words)\n",
    "reverse_str(words)\n",
    "print(words)"
   ]
  },
  {
   "cell_type": "markdown",
   "metadata": {},
   "source": [
    "### Exercise #2 <br>\n",
    "<p>Create a function that counts how many distinct words are in the string below, then outputs a dictionary with the words as the key and the value as the amount of times that word appears in the string.<br>Should output:<br>{'a': 5,<br>\n",
    " 'abstract': 1,<br>\n",
    " 'an': 3,<br>\n",
    " 'array': 2, ... etc...</p>"
   ]
  },
  {
   "cell_type": "code",
   "execution_count": 75,
   "metadata": {},
   "outputs": [
    {
     "data": {
      "text/plain": [
       "{'In': 1,\n",
       " 'computing,': 1,\n",
       " 'a': 4,\n",
       " 'hash': 4,\n",
       " 'table': 2,\n",
       " 'map': 2,\n",
       " 'is': 1,\n",
       " 'data': 2,\n",
       " 'structure': 2,\n",
       " 'which': 2,\n",
       " 'implements': 1,\n",
       " 'an': 3,\n",
       " 'associative': 1,\n",
       " 'array': 2,\n",
       " 'abstract': 1,\n",
       " 'type,': 1,\n",
       " 'that': 1,\n",
       " 'can': 2,\n",
       " 'keys': 1,\n",
       " 'to': 2,\n",
       " 'values.': 1,\n",
       " 'A': 1,\n",
       " 'uses': 1,\n",
       " 'function': 1,\n",
       " 'compute': 1,\n",
       " 'index': 1,\n",
       " 'into': 1,\n",
       " 'of': 1,\n",
       " 'buckets': 1,\n",
       " 'or': 1,\n",
       " 'slots': 1,\n",
       " 'from': 1,\n",
       " 'the': 1,\n",
       " 'desired': 1,\n",
       " 'value': 1,\n",
       " 'be': 1,\n",
       " 'found': 1}"
      ]
     },
     "execution_count": 75,
     "metadata": {},
     "output_type": "execute_result"
    }
   ],
   "source": [
    "a_text = 'In computing, a hash table hash map is a data structure which implements an associative array abstract data type, a structure that can map keys to values. A hash table uses a hash function to compute an index into an array of buckets or slots from which the desired value can be found'\n",
    "\n",
    "\n",
    "def word_counter(a_string):\n",
    "    word_count = 0\n",
    "    word_dict = {}\n",
    "    for word in list(a_string.split(\" \")):\n",
    "        if word in word_dict:\n",
    "            #print(word)\n",
    "            word_dict[word]= word_dict[word] +1\n",
    "        else:\n",
    "            word_dict[word] = 1\n",
    "    return word_dict\n",
    "    \n",
    "        \n",
    "word_counter(a_text)    \n"
   ]
  },
  {
   "cell_type": "markdown",
   "metadata": {},
   "source": [
    "## Exercise #3\n",
    "\n",
    "Write a program to implement a Linear Search Algorithm. Also in a comment, write the Time Complexity of the following algorithm.\n",
    "\n",
    "#### Hint: Linear Searching will require searching a list for a given number. "
   ]
  },
  {
   "cell_type": "code",
   "execution_count": 55,
   "metadata": {},
   "outputs": [
    {
     "name": "stdout",
     "output_type": "stream",
     "text": [
      "2\n"
     ]
    }
   ],
   "source": [
    "#what is it that we are trying to do?\n",
    "#we are trying to find a given number at it's index\n",
    "# this program works by checking eah index and matching it to the number in question\n",
    "def linear_search(a_list, number):\n",
    "    for index in range(len(a_list)):\n",
    "        if number == a_list[index]:\n",
    "            return index\n",
    "        \n",
    "my_cool_list = [1,23,45,67,89]\n",
    "        \n",
    "linear_search(my_cool_list, 45)\n",
    "print(linear_search(my_cool_list, 45))\n",
    "    \n"
   ]
  }
 ],
 "metadata": {
  "kernelspec": {
   "display_name": "Python 3 (ipykernel)",
   "language": "python",
   "name": "python3"
  },
  "language_info": {
   "codemirror_mode": {
    "name": "ipython",
    "version": 3
   },
   "file_extension": ".py",
   "mimetype": "text/x-python",
   "name": "python",
   "nbconvert_exporter": "python",
   "pygments_lexer": "ipython3",
   "version": "3.9.7"
  }
 },
 "nbformat": 4,
 "nbformat_minor": 2
}
